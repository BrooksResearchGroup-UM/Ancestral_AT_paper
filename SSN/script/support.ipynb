{
 "cells": [
  {
   "cell_type": "markdown",
   "metadata": {},
   "source": [
    "#### Read the genome neighborhood analysis result"
   ]
  },
  {
   "cell_type": "code",
   "execution_count": 2,
   "metadata": {},
   "outputs": [],
   "source": [
    "import pickle\n",
    "import pandas as pd\n",
    "\n",
    "# Read the test file into a dataframe\n",
    "df = pd.read_csv(\"../data/Other_Files/pfam_neighbors_PF02458.txt\", delimiter='\\t')\n",
    "df.to_csv(\"../output/pfam_neighbors_PF02458.csv\")\n",
    "\n",
    "# Save the query and neighbor IDs into two separate txt files for the SSN submission\n",
    "# Query\n",
    "Query_ID = []\n",
    "for id in df['Query ID'].to_list():\n",
    "    Query_ID.append(id)\n",
    "with open('../output/PF01494_with_PF02458.txt', 'w') as fp:\n",
    "    for id in Query_ID:\n",
    "        fp.write(\"%s\\n\" % id) # write each item on a new line\n",
    "\n",
    "# Neighbor\n",
    "Neighbor_ID = []\n",
    "for id in df['Neighbor ID'].to_list():\n",
    "    Neighbor_ID.append(id)\n",
    "with open('../output/PF02458_with_PF01494.txt', 'w') as fp:\n",
    "    for id in Neighbor_ID:\n",
    "        fp.write(\"%s\\n\" % id) # write each item on a new line\n",
    "\n",
    "# Create a \"PF01494 to PF02458\" dictionary and a \"PF02458 to PF01494\" dictionary and save them\n",
    "PF01494_to_PF02458_dict = {}\n",
    "PF02458_to_PF01494_dict = {}\n",
    "for i, j in zip(Query_ID, Neighbor_ID):\n",
    "    PF01494_to_PF02458_dict[i] = j\n",
    "    PF02458_to_PF01494_dict[j] = i\n",
    "\n",
    "with open(\"../output/PF01494_to_PF02458_dict.pkl\", 'wb') as file_handle:\n",
    "     pickle.dump(PF01494_to_PF02458_dict, file_handle)\n",
    "\n",
    "with open(\"../output/PF02458_to_PF01494_dict.pkl\", 'wb') as file_handle:\n",
    "     pickle.dump(PF02458_to_PF01494_dict, file_handle)\n"
   ]
  },
  {
   "cell_type": "markdown",
   "metadata": {},
   "source": [
    "#### Analyze the clusterings of PF01494 and PF02458 by the AMI score"
   ]
  },
  {
   "cell_type": "code",
   "execution_count": 6,
   "metadata": {},
   "outputs": [
    {
     "name": "stdout",
     "output_type": "stream",
     "text": [
      "Total pairs:  167\n",
      "AMI score:  0.8483212948915777\n"
     ]
    }
   ],
   "source": [
    "import pickle\n",
    "import pandas as pd\n",
    "from sklearn.metrics.cluster import adjusted_mutual_info_score\n",
    "\n",
    "# Read the PF01494 clustering file\n",
    "df2 = pd.read_csv(\"../data/PF01494_SSN_Score150_cluster.txt\", delimiter='\\t')\n",
    "df2.to_csv(\"../output/PF01494_SSN_Score150_cluster.csv\")\n",
    "PF01494_cluster_id = df2['UniProt ID'].to_list()\n",
    "PF01494_cluster = df2['Cluster Number'].to_list()\n",
    "PF01494_id_to_cluster = {}\n",
    "for i, j in zip(PF01494_cluster_id, PF01494_cluster):\n",
    "    PF01494_id_to_cluster[i] = j\n",
    "    \n",
    "# Read the PF02458 clustering file\n",
    "df3 = pd.read_csv(\"../data/PF02458_SSN_Score150_cluster.txt\", delimiter='\\t')\n",
    "df3.to_csv(\"../output/PF02458_SSN_Score150_cluster.csv\")\n",
    "df3['UniProt ID'].to_list()\n",
    "PF02458_cluster_id = df3['UniProt ID'].to_list()\n",
    "PF02458_cluster = df3['Cluster Number'].to_list()\n",
    "PF02458_id_to_cluster = {}\n",
    "for n, k in zip(PF02458_cluster_id, PF02458_cluster):\n",
    "    PF02458_id_to_cluster[n] = k\n",
    "\n",
    "# Read the PF01494_and_PF02458 dictionary\n",
    "with open(\"../output/PF01494_to_PF02458_dict.pkl\", 'rb') as file_handle:\n",
    "    PF01494_to_PF02458_dict = pickle.load(file_handle)\n",
    "\n",
    "# Create a list for PF01494 to PF02458 pairs that are not singletons\n",
    "PF01494_and_PF02458 = []\n",
    "for id in PF01494_cluster_id:\n",
    "    if PF01494_to_PF02458_dict[id] in PF02458_cluster_id:\n",
    "        PF01494_and_PF02458.append(id)\n",
    "print(\"Total pairs: \", len(PF01494_and_PF02458))\n",
    "\n",
    "updated_PF01494_cluster = []\n",
    "updated_PF02458_cluster = []\n",
    "for PF01494_id in PF01494_and_PF02458:\n",
    "    updated_PF01494_cluster.append(PF01494_id_to_cluster[PF01494_id])\n",
    "    updated_PF02458_cluster.append(PF02458_id_to_cluster[PF01494_to_PF02458_dict[PF01494_id]])\n",
    "\n",
    "# Calculate the Adjusted Mutual Information (AMI) score\n",
    "AMI = adjusted_mutual_info_score(updated_PF01494_cluster, updated_PF02458_cluster)\n",
    "print(\"AMI score: \", AMI)\n"
   ]
  }
 ],
 "metadata": {
  "kernelspec": {
   "display_name": "Python 3 (ipykernel)",
   "language": "python",
   "name": "python3"
  },
  "language_info": {
   "codemirror_mode": {
    "name": "ipython",
    "version": 3
   },
   "file_extension": ".py",
   "mimetype": "text/x-python",
   "name": "python",
   "nbconvert_exporter": "python",
   "pygments_lexer": "ipython3",
   "version": "3.10.5"
  }
 },
 "nbformat": 4,
 "nbformat_minor": 2
}
